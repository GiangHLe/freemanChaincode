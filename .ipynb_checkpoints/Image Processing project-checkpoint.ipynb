{
 "cells": [
  {
   "cell_type": "code",
   "execution_count": 1,
   "metadata": {},
   "outputs": [],
   "source": [
    "import numpy as np\n",
    "import math\n",
    "import cv2\n",
    "from matplotlib import pyplot as mlt\n",
    "# comment something to push"
   ]
  },
  {
   "cell_type": "code",
   "execution_count": 19,
   "metadata": {},
   "outputs": [
    {
     "data": {
      "text/plain": [
       "<matplotlib.image.AxesImage at 0x217105bec88>"
      ]
     },
     "execution_count": 19,
     "metadata": {},
     "output_type": "execute_result"
    },
    {
     "data": {
      "image/png": "[encoded data removed]",
      "text/plain": [
       "<Figure size 432x288 with 1 Axes>"
      ]
     },
     "metadata": {
      "needs_background": "light"
     },
     "output_type": "display_data"
    }
   ],
   "source": [
    "img_path = 'le.jpg'\n",
    "image = cv2.imread(img_path,0)\n",
    "# mlt.imshow(image)\n",
    "# print(image.shape)\n",
    "# image = np.reshape(a, (-1, 28)).astype(np.uint8)\n",
    "boudary = [(0,0),(0,0)]\n",
    "#[(20,218),(20,218)]\n",
    "if np.sum(boudary) != 0:\n",
    "    image = image[boudary[0][0]:boudary[0][1],boudary[1][0]:boudary[1][1]]\n",
    "# print(image[0,0])\n",
    "if image[0,0] > 80:\n",
    "    ret, img = cv2.threshold(image, 200,255, cv2.THRESH_BINARY_INV)\n",
    "else:\n",
    "    ret, img = cv2.threshold(image, 60,255, cv2.THRESH_BINARY)\n",
    "# image = image[20:218,20:218]\n",
    "# mlt.imshow(image, cmap='Greys')\n",
    "mlt.imshow(img, cmap='Greys')"
   ]
  },
  {
   "cell_type": "code",
   "execution_count": 65,
   "metadata": {},
   "outputs": [
    {
     "name": "stdout",
     "output_type": "stream",
     "text": [
      "[[0 0 0 ... 0 0 0]\n",
      " [0 0 0 ... 0 0 0]\n",
      " [0 0 0 ... 0 0 0]\n",
      " ...\n",
      " [0 0 0 ... 0 0 0]\n",
      " [0 0 0 ... 0 0 0]\n",
      " [0 0 0 ... 0 0 0]]\n"
     ]
    }
   ],
   "source": [
    "print(img)"
   ]
  },
  {
   "cell_type": "code",
   "execution_count": 20,
   "metadata": {},
   "outputs": [
    {
     "data": {
      "text/plain": [
       "<matplotlib.image.AxesImage at 0x217105519e8>"
      ]
     },
     "execution_count": 20,
     "metadata": {},
     "output_type": "execute_result"
    },
    {
     "data": {
      "image/png": "[encoded data removed]",
      "text/plain": [
       "<Figure size 432x288 with 1 Axes>"
      ]
     },
     "metadata": {
      "needs_background": "light"
     },
     "output_type": "display_data"
    }
   ],
   "source": [
    "ret,img = cv2.threshold(image,200,255,cv2.THRESH_BINARY_INV)\n",
    "mlt.imshow(img, cmap = 'Greys')"
   ]
  },
  {
   "cell_type": "code",
   "execution_count": 58,
   "metadata": {},
   "outputs": [
    {
     "name": "stdout",
     "output_type": "stream",
     "text": [
      "[[255   0   0 ...   0   0 255]\n",
      " [  0   0   0 ...   0   0   0]\n",
      " [  0   0   0 ...   0   0   0]\n",
      " ...\n",
      " [  0   0   0 ...   0   0   0]\n",
      " [  0   0   0 ...   0   0   0]\n",
      " [255   0   0 ...   0   0 255]]\n"
     ]
    }
   ],
   "source": [
    "print(img)"
   ]
  },
  {
   "cell_type": "code",
   "execution_count": 67,
   "metadata": {},
   "outputs": [
    {
     "data": {
      "text/plain": [
       "<matplotlib.image.AxesImage at 0x186b6d1ccc0>"
      ]
     },
     "execution_count": 67,
     "metadata": {},
     "output_type": "execute_result"
    },
    {
     "data": {
      "image/png": "[encoded data removed]",
      "text/plain": [
       "<Figure size 432x288 with 1 Axes>"
      ]
     },
     "metadata": {
      "needs_background": "light"
     },
     "output_type": "display_data"
    }
   ],
   "source": [
    "kernel = np.ones((10,10),np.uint8)\n",
    "temp = cv2.dilate(img, kernel, iterations = 1)\n",
    "mlt.imshow(temp, cmap = 'Greys')"
   ]
  },
  {
   "cell_type": "code",
   "execution_count": 20,
   "metadata": {},
   "outputs": [
    {
     "data": {
      "text/plain": [
       "<matplotlib.image.AxesImage at 0x280a61e4d68>"
      ]
     },
     "execution_count": 20,
     "metadata": {},
     "output_type": "execute_result"
    },
    {
     "data": {
      "image/png": "[encoded data removed]",
      "text/plain": [
       "<Figure size 432x288 with 1 Axes>"
      ]
     },
     "metadata": {
      "needs_background": "light"
     },
     "output_type": "display_data"
    }
   ],
   "source": [
    "kernel = np.ones((10,10),np.uint8)\n",
    "# closing = cv2.morphologyEx(img, cv2.MORPH_CLOSE, kernel)\n",
    "# dilation = cv2.dilate(img,kernel,iterations = 1)\n",
    "closing = cv2.morphologyEx(img, cv2.MORPH_CLOSE, kernel)\n",
    "\n",
    "mlt.imshow(closing,cmap = 'Greys')\n"
   ]
  },
  {
   "cell_type": "code",
   "execution_count": 21,
   "metadata": {},
   "outputs": [
    {
     "name": "stdout",
     "output_type": "stream",
     "text": [
      "(420, 420)\n"
     ]
    }
   ],
   "source": [
    "img = closing\n",
    "print((img.shape))"
   ]
  },
  {
   "cell_type": "code",
   "execution_count": 22,
   "metadata": {},
   "outputs": [
    {
     "name": "stdout",
     "output_type": "stream",
     "text": [
      "[[0 0 0 ... 0 0 0]\n",
      " [0 0 0 ... 0 0 0]\n",
      " [0 0 0 ... 0 0 0]\n",
      " ...\n",
      " [0 0 0 ... 0 0 0]\n",
      " [0 0 0 ... 0 0 0]\n",
      " [0 0 0 ... 0 0 0]]\n"
     ]
    }
   ],
   "source": [
    "print(img)"
   ]
  },
  {
   "cell_type": "code",
   "execution_count": 23,
   "metadata": {},
   "outputs": [
    {
     "name": "stdout",
     "output_type": "stream",
     "text": [
      "(110, 36) 255\n"
     ]
    }
   ],
   "source": [
    "for i, row in enumerate(img):\n",
    "    for j, value in enumerate(row):\n",
    "#         cv2.circle(img,(i,j),5,150,1)\n",
    "        if value == 255:\n",
    "            start_point = (i, j)\n",
    "            print(start_point, value)\n",
    "            break\n",
    "    else:\n",
    "        continue\n",
    "    break"
   ]
  },
  {
   "cell_type": "code",
   "execution_count": 24,
   "metadata": {},
   "outputs": [],
   "source": [
    "# cv2.circle(img,start_point[::-1],5,150,2)\n",
    "# mlt.imshow(img, cmap='Greys')"
   ]
  },
  {
   "cell_type": "code",
   "execution_count": 25,
   "metadata": {},
   "outputs": [],
   "source": [
    "directions = [ 0,  1,  2,\n",
    "               7,      3,\n",
    "               6,  5,  4]\n",
    "dir2idx = dict(zip(directions, range(len(directions))))\n",
    "# print(dir2idx)\n",
    "temp = 1\n",
    "change_j =   [-temp,  0, temp, # x or columns\n",
    "              -temp,    temp,\n",
    "              -temp,  0, temp]\n",
    "\n",
    "change_i =   [-temp, -temp, -temp, # y or rows\n",
    "               0,      0,\n",
    "               temp, temp,temp]\n",
    "\n",
    "border = []\n",
    "chain = []\n",
    "curr_point = start_point\n",
    "for direction in directions:\n",
    "#     print(direction)\n",
    "    idx = dir2idx[direction]\n",
    "#     print(idx)\n",
    "    new_point = (start_point[0]+change_i[idx], start_point[1]+change_j[idx])\n",
    "#     print(\"New point: {}, {}\".format(new_point, img[new_point]))\n",
    "    if img[new_point] != 0: # if is ROI\n",
    "        border.append(new_point)\n",
    "        chain.append(direction)\n",
    "        curr_point = new_point\n",
    "        break\n",
    "\n",
    "count = 0\n",
    "while(count < 30):\n",
    "    while curr_point != start_point:\n",
    "        #figure direction to start search\n",
    "    #     cv2.circle(img,curr_point[::-1],5,150,2)\n",
    "\n",
    "        b_direction = (direction + 5) % 8\n",
    "        b_direction += 1\n",
    "        dirs_1 = range(b_direction, 8)\n",
    "        dirs_2 = range(0, b_direction)\n",
    "        dirs = []\n",
    "        dirs.extend(dirs_1)\n",
    "        dirs.extend(dirs_2)\n",
    "        for direction in dirs:\n",
    "            idx = dir2idx[direction]\n",
    "            new_point = (curr_point[0]+change_i[idx], curr_point[1]+change_j[idx])\n",
    "            if img[new_point] != 0:\n",
    "                border.append(new_point)\n",
    "                chain.append(direction)\n",
    "                curr_point = new_point\n",
    "                break\n",
    "        count += 1\n",
    "    temp+=1"
   ]
  },
  {
   "cell_type": "code",
   "execution_count": 26,
   "metadata": {},
   "outputs": [
    {
     "name": "stdout",
     "output_type": "stream",
     "text": [
      "1104\n",
      "[3, 3, 3, 3, 3, 3, 3, 3, 3, 3, 3, 3, 3, 3, 3, 3, 3, 3, 3, 3, 3, 3, 3, 3, 3, 3, 3, 3, 3, 3, 3, 3, 3, 3, 3, 3, 3, 3, 3, 3, 3, 3, 3, 3, 3, 3, 3, 3, 3, 3, 3, 3, 3, 3, 3, 3, 3, 3, 3, 3, 3, 3, 3, 3, 3, 3, 3, 3, 3, 3, 3, 3, 3, 3, 3, 3, 3, 3, 3, 3, 3, 3, 3, 3, 3, 3, 3, 3, 3, 3, 3, 3, 3, 3, 3, 3, 3, 3, 3, 3, 3, 3, 3, 3, 3, 3, 3, 3, 3, 3, 3, 3, 3, 3, 3, 3, 3, 3, 3, 3, 3, 3, 3, 3, 3, 3, 3, 3, 3, 3, 3, 3, 3, 3, 3, 3, 3, 3, 3, 3, 3, 3, 3, 3, 3, 3, 3, 3, 3, 3, 3, 3, 3, 3, 3, 3, 3, 3, 3, 3, 3, 3, 3, 3, 3, 3, 3, 3, 3, 3, 3, 3, 3, 3, 3, 3, 3, 3, 3, 3, 3, 3, 3, 3, 3, 3, 3, 3, 3, 3, 3, 3, 3, 3, 3, 3, 3, 3, 3, 3, 3, 3, 3, 3, 3, 3, 3, 3, 3, 3, 3, 3, 3, 3, 3, 3, 3, 3, 3, 3, 3, 3, 3, 3, 3, 3, 3, 3, 3, 3, 3, 3, 3, 3, 3, 3, 3, 3, 3, 3, 3, 3, 3, 3, 3, 3, 3, 3, 3, 3, 3, 3, 3, 3, 3, 3, 3, 3, 3, 3, 3, 3, 3, 3, 3, 3, 3, 3, 3, 3, 3, 3, 3, 3, 3, 3, 3, 3, 3, 3, 3, 3, 3, 3, 3, 3, 3, 3, 3, 3, 3, 3, 3, 3, 3, 3, 3, 3, 3, 3, 3, 3, 3, 3, 3, 3, 3, 3, 3, 3, 3, 3, 3, 3, 3, 3, 3, 3, 3, 3, 3, 3, 3, 3, 3, 3, 3, 3, 3, 3, 3, 3, 3, 3, 3, 3, 3, 3, 3, 3, 3, 3, 3, 3, 3, 3, 3, 3, 3, 3, 3, 5, 5, 5, 5, 5, 5, 5, 5, 5, 5, 5, 5, 5, 5, 5, 5, 5, 5, 5, 5, 5, 5, 5, 5, 5, 5, 5, 5, 5, 5, 5, 5, 5, 5, 5, 5, 5, 5, 5, 5, 5, 5, 5, 5, 5, 5, 5, 5, 5, 5, 5, 5, 5, 5, 5, 5, 5, 5, 5, 5, 5, 5, 5, 5, 5, 5, 5, 5, 5, 5, 5, 5, 5, 5, 5, 5, 5, 5, 5, 5, 5, 5, 5, 5, 5, 5, 5, 5, 5, 5, 5, 5, 5, 5, 5, 5, 5, 5, 5, 5, 5, 5, 5, 5, 5, 5, 5, 5, 5, 5, 5, 5, 5, 5, 5, 5, 5, 5, 5, 5, 5, 5, 5, 5, 5, 5, 5, 5, 5, 5, 5, 5, 5, 5, 5, 5, 5, 5, 5, 5, 5, 5, 5, 5, 5, 5, 5, 5, 5, 5, 5, 5, 5, 5, 5, 5, 5, 5, 5, 5, 5, 5, 5, 5, 5, 5, 5, 5, 5, 5, 5, 5, 5, 5, 5, 5, 5, 5, 5, 5, 5, 5, 5, 5, 5, 5, 5, 5, 5, 5, 5, 5, 5, 5, 5, 5, 5, 5, 5, 5, 5, 7, 6, 7, 7, 7, 7, 7, 7, 7, 7, 7, 7, 7, 7, 7, 7, 7, 7, 7, 7, 7, 7, 7, 7, 7, 7, 7, 7, 7, 7, 7, 7, 7, 7, 7, 7, 7, 7, 7, 7, 7, 7, 7, 7, 7, 7, 7, 7, 7, 7, 7, 7, 7, 7, 7, 7, 7, 7, 7, 7, 7, 7, 7, 7, 7, 7, 7, 7, 7, 7, 7, 7, 7, 7, 7, 7, 7, 7, 7, 7, 7, 7, 7, 7, 7, 7, 7, 7, 7, 7, 7, 7, 7, 7, 7, 7, 7, 7, 7, 7, 7, 7, 7, 7, 7, 7, 7, 7, 7, 7, 7, 7, 7, 7, 7, 7, 7, 7, 7, 7, 7, 7, 7, 7, 7, 7, 7, 7, 7, 7, 7, 7, 7, 7, 7, 7, 7, 7, 7, 7, 7, 7, 7, 7, 7, 7, 7, 7, 7, 7, 7, 7, 7, 7, 7, 7, 7, 7, 7, 7, 7, 7, 7, 7, 7, 7, 7, 7, 7, 7, 7, 7, 7, 7, 7, 7, 7, 7, 7, 7, 7, 7, 7, 7, 7, 7, 7, 7, 7, 7, 7, 7, 7, 7, 7, 7, 7, 7, 7, 7, 7, 7, 7, 7, 7, 7, 7, 7, 7, 7, 7, 7, 7, 7, 7, 7, 7, 7, 7, 7, 7, 7, 7, 7, 7, 7, 7, 7, 7, 7, 7, 7, 7, 7, 7, 7, 7, 7, 7, 7, 7, 7, 7, 7, 7, 7, 7, 7, 7, 7, 7, 7, 7, 7, 7, 7, 7, 7, 7, 7, 7, 7, 7, 7, 7, 7, 7, 7, 7, 7, 7, 7, 7, 7, 7, 7, 7, 7, 7, 7, 7, 7, 7, 7, 7, 7, 7, 7, 7, 7, 7, 7, 7, 7, 7, 7, 7, 7, 7, 7, 7, 7, 7, 7, 7, 7, 7, 7, 7, 7, 7, 7, 7, 7, 7, 7, 7, 7, 7, 7, 7, 7, 7, 7, 7, 7, 7, 7, 7, 7, 7, 7, 7, 7, 7, 7, 7, 7, 7, 7, 7, 7, 7, 7, 7, 7, 7, 7, 7, 7, 7, 1, 1, 1, 1, 1, 1, 1, 1, 1, 1, 1, 1, 1, 1, 1, 1, 1, 1, 1, 1, 1, 1, 1, 1, 1, 1, 1, 1, 1, 1, 1, 1, 1, 1, 1, 1, 1, 1, 1, 1, 1, 1, 1, 1, 1, 1, 1, 1, 1, 1, 1, 1, 1, 1, 1, 1, 1, 1, 1, 1, 1, 1, 1, 1, 1, 1, 1, 1, 1, 1, 1, 1, 1, 1, 1, 1, 1, 1, 1, 1, 1, 1, 1, 1, 1, 1, 1, 1, 1, 1, 1, 1, 1, 1, 1, 1, 1, 1, 1, 1, 1, 1, 1, 1, 1, 1, 1, 1, 1, 1, 1, 1, 1, 1, 1, 1, 1, 1, 1, 1, 1, 1, 1, 1, 1, 1, 1, 1, 1, 1, 1, 1, 1, 1, 1, 1, 1, 1, 1, 1, 1, 1, 1, 1, 1, 1, 1, 1, 1, 1, 1, 1, 1, 1, 1, 1, 1, 1, 1, 1, 1, 1, 1, 1, 1, 1, 1, 1, 1, 1, 1, 1, 1, 1, 1, 1, 1, 1, 1, 1, 1, 1, 1, 1, 1, 1, 1, 1, 1, 1, 1, 1, 1, 1, 1, 1, 1, 1, 1, 1, 1, 1]\n"
     ]
    }
   ],
   "source": [
    "print(count)\n",
    "print(chain)"
   ]
  },
  {
   "cell_type": "code",
   "execution_count": 27,
   "metadata": {},
   "outputs": [
    {
     "data": {
      "text/plain": [
       "[<matplotlib.lines.Line2D at 0x280a71dbd30>]"
      ]
     },
     "execution_count": 27,
     "metadata": {},
     "output_type": "execute_result"
    },
    {
     "data": {
      "image/png": "[encoded data removed]",
      "text/plain": [
       "<Figure size 432x288 with 1 Axes>"
      ]
     },
     "metadata": {
      "needs_background": "light"
     },
     "output_type": "display_data"
    }
   ],
   "source": [
    "mlt.imshow(img, cmap='Greys')\n",
    "mlt.plot([i[1] for i in border], [i[0] for i in border])"
   ]
  },
  {
   "cell_type": "code",
   "execution_count": null,
   "metadata": {},
   "outputs": [],
   "source": [
    "my_list=[\"Alex:1990:London\", \"Tony:1993:NYC\", \"Kate:2001:Beijing\", \"Tony:2001:LA\", \"Alex:1978:Shanghai\"]\n",
    "dict = {}\n",
    "for idx, content in enumerate(my_list):\n",
    "    name = content[:(content.index(':'))]\n",
    "    if name not in dict:\n",
    "        dict[name] = []\n",
    "    dict[name].append(my_list[idx])"
   ]
  },
  {
   "cell_type": "code",
   "execution_count": null,
   "metadata": {},
   "outputs": [],
   "source": [
    "def properNounCorrection(noun):\n",
    "    noun = noun.lower()\n",
    "    a = list(noun)\n",
    "    a[0]= a[0].upper()\n",
    "    a = ''.join(a)\n",
    "    print(a)\n",
    "properNounCorrection('oNAD')"
   ]
  },
  {
   "cell_type": "code",
   "execution_count": 22,
   "metadata": {},
   "outputs": [
    {
     "name": "stdout",
     "output_type": "stream",
     "text": [
      "[6, 0, 0, 0, 6, 2, 6, 0, 0, 0, 0, 0, 0, 0, 6, 0, 0, 0, 0, 0, 6, 2, 6, 0, 0, 0, 0, 6, 2, 0, 6, 2]\n"
     ]
    }
   ],
   "source": [
    "a = [0,1,2,3,4,5,6,7]\n",
    "b = [0,0,0,0,6,0,6,6,6,6,6,6,6,6,4,4,4,4,4,4,2,4,2,2,2,2,2,0,2,2,0,2]\n",
    "c = [6,0,0,0,6,2,6,0,0,0,0,0,0,0,6,0,0,0,0,0,6,2,6,0,0,0,0,6,2,0,6,2]\n",
    "l = len(b)\n",
    "p = []\n",
    "def _different(direction, chain_code):\n",
    "    result = []\n",
    "    direction = list(range(direction))\n",
    "    len_code = len(chain_code)\n",
    "    for i in range(len_code):\n",
    "        step = [direction.index(chain_code[i]), direction.index(chain_code[i-1])]\n",
    "        if i ==0:\n",
    "            step = [direction.index(chain_code[len_code-1]), direction.index(chain_code[0])]\n",
    "        temp = (direction.index(chain_code[i])-direction.index(chain_code[i-1]))\n",
    "        if temp < 0:\n",
    "            minimum = min(step)\n",
    "            maximum = max(step)\n",
    "            temp = len(direction[:minimum])+len(direction[maximum:])\n",
    "        result.append(temp)\n",
    "    return result\n",
    "d = _different(8,b)\n",
    "print(d)"
   ]
  },
  {
   "cell_type": "code",
   "execution_count": 24,
   "metadata": {},
   "outputs": [
    {
     "name": "stdout",
     "output_type": "stream",
     "text": [
      "00006066666666444444242222202202\n",
      "60006260000000600000626000062062\n"
     ]
    }
   ],
   "source": [
    "print((''.join([str(i) for i in b])))\n",
    "print((''.join([str(i) for i in d])))"
   ]
  },
  {
   "cell_type": "code",
   "execution_count": 27,
   "metadata": {},
   "outputs": [
    {
     "name": "stdout",
     "output_type": "stream",
     "text": [
      "[0, 1, 2, 3]\n"
     ]
    }
   ],
   "source": [
    "temp = [1,2,3]\n",
    "print([0]+temp)"
   ]
  },
  {
   "cell_type": "code",
   "execution_count": 9,
   "metadata": {},
   "outputs": [],
   "source": [
    "from __future__ import print_function, division\n",
    "import numpy as np\n",
    "import math\n",
    "import cv2\n",
    "from matplotlib import pyplot as mlt\n",
    "\n",
    "class FreemanChainCode(object):\n",
    "    def __init__(self, image_path, **kwargs):\n",
    "        \"\"\"\n",
    "        Required arguments:\n",
    "        - image_path: the location of image, remember '/' with Linux and '\\\\' with Windows\n",
    "        Optional arguments:\n",
    "        - direction: number of direction of chaincode\n",
    "        Default is 8\n",
    "        - object_location: list of tuple elements location of object in image\n",
    "        Default is [(20,218),(20,218)]\n",
    "        - threshold: choose a threshold for detect object clearly with environment\n",
    "        Default is 60\n",
    "        - kernel_size: the size of kernel use for opening and closing to let picture clear, this kernel with have square shape\n",
    "        Default is 10\n",
    "        - morno: choose that you will use closing or opening or none\n",
    "        Default is 'closing'\n",
    "        \"\"\"\n",
    "        self.path = image_path\n",
    "        self.direction = kwargs.pop('direction', 8)\n",
    "        self.object_location = kwargs.pop('location', [(20,218),(20,218)])\n",
    "        self.thresh = kwargs.pop('threshold', 60)\n",
    "        self.kernel_size = kwargs.pop('kernel_size', 10)\n",
    "        self.mor = kwargs.pop('morno', 'closing')\n",
    "        self.length = kwargs.pop('shape_length', 1)\n",
    "\n",
    "    def _preprocessing(self):\n",
    "        image = cv2.imread(self.path,0)\n",
    "        boudary = self.object_location\n",
    "        if np.sum(boudary) != 0:\n",
    "            image = image[boudary[0][0]:boudary[0][1],boudary[1][0]:boudary[1][1]]\n",
    "        if image[0,0] > 80:\n",
    "            ret, img = cv2.threshold(image, self.thresh,255, cv2.THRESH_BINARY_INV)\n",
    "        else:\n",
    "            ret, img = cv2.threshold(image, self.thresh,255, cv2.THRESH_BINARY)\n",
    "        return img\n",
    "    \n",
    "    def _start_point(self):\n",
    "        if self.mor == 'closing':\n",
    "            img = self._closing()\n",
    "        if self.mor == 'opening':\n",
    "            img = self._opening()\n",
    "        if self.mor == 'None':\n",
    "            img = self._preprocessing()\n",
    "        for i, row in enumerate(img):\n",
    "            for j, value in enumerate(row):\n",
    "                if value == 255:\n",
    "                    start_point = (i, j)\n",
    "                    break\n",
    "            else:\n",
    "                continue\n",
    "            break\n",
    "        return start_point, img\n",
    "    def _closing(self):\n",
    "        kernel = np.ones((self.kernel_size,self.kernel_size),np.uint8)\n",
    "        img = self._preprocessing()\n",
    "        closing = cv2.morphologyEx(img, cv2.MORPH_CLOSE, kernel)\n",
    "        return closing\n",
    "    def _opening(self):\n",
    "        kernel = np.ones((self.kernel_size,self.kernel_size),np.uint8)\n",
    "        img = self._preprocessing()\n",
    "        opening = cv2.morphologyEx(img, cv2.MORPH_OPEN, kernel)\n",
    "        return opening\n",
    "    def _get_chain_code(self):\n",
    "        '''\n",
    "        Get chain code by direction\n",
    "        '''\n",
    "        start_point, img = self._start_point()\n",
    "        if self.direction == 4:\n",
    "            dicrections = [   0,\n",
    "                           1,    2,\n",
    "                              3    ]\n",
    "            num_necess = 3\n",
    "        elif self.direction == 8:\n",
    "            directions = [ 0,  1,  2,\n",
    "                           7,      3,\n",
    "                           6,  5,  4]\n",
    "            num_necess = 5\n",
    "        dir2idx = dict(zip(directions, range(len(directions))))\n",
    "        move = self.length\n",
    "        # Move the current point follow the direction\n",
    "        if self.direction == 8:\n",
    "            # Columns\n",
    "            change_x =   [-move,  0, move, \n",
    "                          -move,     move,\n",
    "                          -move,  0, move]\n",
    "\n",
    "            # Rows\n",
    "            change_y =   [-move,-move,-move,\n",
    "                           0,             0,\n",
    "                           move, move, move]\n",
    "        elif self.direction == 4:\n",
    "            # Columns\n",
    "            change_x = [       0,    \n",
    "                        -move,    move,\n",
    "                               0       ]\n",
    "            # Rows\n",
    "            change_y = [     -move,\n",
    "                         0,        0,\n",
    "                              move    ]\n",
    "\n",
    "        # Border for drawing the boundary when finish the job\n",
    "        border = []\n",
    "        chain = []\n",
    "        curr_point = start_point\n",
    "        '''\n",
    "        This find the first shape, the direction we choose to move our chain code\n",
    "        '''\n",
    "        for direction in directions:\n",
    "            idx = dir2idx[direction]\n",
    "            # Move to each directions to find the true way\n",
    "            new_point = (start_point[0]+change_y[idx], start_point[1]+change_x[idx])\n",
    "            if img[new_point] != 0:\n",
    "                border.append(new_point)\n",
    "                chain.append(direction)\n",
    "                curr_point = new_point\n",
    "                break\n",
    "        count = 0\n",
    "        while(count < 30):\n",
    "            while curr_point != start_point:\n",
    "                # Make sure the direction always be the first opposite with the current direction\n",
    "                b_direction = (direction + num_necess) % self.direction\n",
    "                if self.direction > 4:\n",
    "                    b_direction += 1\n",
    "                dirs_1 = range(b_direction, 8)\n",
    "                dirs_2 = range(0, b_direction)\n",
    "                dirs = []\n",
    "                dirs.extend(dirs_1)\n",
    "                dirs.extend(dirs_2)\n",
    "                for direction in dirs:\n",
    "                    idx = dir2idx[direction]\n",
    "                    new_point = (curr_point[0]+change_y[idx], curr_point[1]+change_x[idx])\n",
    "                    if img[new_point] != 0:\n",
    "                        border.append(new_point)\n",
    "                        chain.append(direction)\n",
    "                        curr_point = new_point\n",
    "                        break\n",
    "                count += 1\n",
    "            if self.length == 1:\n",
    "                move+=1\n",
    "            else:\n",
    "                break\n",
    "        return border, chain, img, move\n",
    "    def _different(self):\n",
    "        '''\n",
    "        Return the different from chain code\n",
    "        '''\n",
    "        directions = self.direction\n",
    "        _,chain_code,_,_ = self._get_chain_code()\n",
    "        result = []\n",
    "        dir = list(range(directions))\n",
    "        len_code = len(chain_code)\n",
    "        for i in range(len_code):\n",
    "            step = [dir.index(chain_code[i]), dir.index(chain_code[i-1])]\n",
    "            if i ==0:\n",
    "                step = [dir.index(chain_code[len_code-1]), dir.index(chain_code[0])]\n",
    "            temp = (dir.index(chain_code[i])-dir.index(chain_code[i-1]))\n",
    "            if temp < 0:\n",
    "                minimum = min(step)\n",
    "                maximum = max(step)\n",
    "                temp = len(dir[:minimum])+len(dir[maximum:])\n",
    "            result.append(temp)\n",
    "        return result        \n",
    "    def result(self):\n",
    "        '''\n",
    "        This function give the final result, return the boundary point of object\n",
    "        '''\n",
    "        border, chain, img, length = self._get_chain_code()\n",
    "        diff = self._different()\n",
    "        shape = [diff[len(diff)-1]] + diff[:(len(diff)-1)]\n",
    "        chain_code = (''.join([str(i) for i in chain]))\n",
    "        differ = (''.join([str(i) for i in diff]))\n",
    "        shape_no = (''.join([str(i) for i in chain_code]))\n",
    "        return border, chain_code, differ, shape_no, img, length\n",
    "    def show(self):\n",
    "        '''\n",
    "        Show the final solution\n",
    "        '''\n",
    "        #temp\n",
    "        border, chain_code, differ, shape_no, img, length = self.result()\n",
    "        print(\"Our chain code is {}:\".format(chain_code))\n",
    "        print(\"Different {}:\".format(differ))\n",
    "        print(\"Shape number {}:\".format(shape_no))\n",
    "        print(\"Length of shape is: {}\".format(length))\n",
    "        mlt.imshow(img, cmap='Greys')\n",
    "        mlt.plot([i[1] for i in border], [i[0] for i in border])\n"
   ]
  },
  {
   "cell_type": "code",
   "execution_count": 2,
   "metadata": {},
   "outputs": [
    {
     "name": "stdout",
     "output_type": "stream",
     "text": [
      "0.35968992248062015\n"
     ]
    }
   ],
   "source": [
    "from assignment import FreemanChainCode\n",
    "from stringmatching import *\n",
    "seven = FreemanChainCode(image_path = 'seven.png', location = [(0,0),(0,0)], morno = 'opening')\n",
    "five = FreemanChainCode(image_path = 'five.jpg')\n",
    "zero = FreemanChainCode(image_path = 'zero.png')\n",
    "_,_,_,shape_1,_ = seven.result()\n",
    "_,_,_,shape_2,_ = five.result()\n",
    "_,_,_,shape_3,_ = zero.result()\n",
    "print(similarity(shape_2,shape_1))"
   ]
  },
  {
   "cell_type": "code",
   "execution_count": 18,
   "metadata": {},
   "outputs": [
    {
     "name": "stdout",
     "output_type": "stream",
     "text": [
      "Matching shape number of triangle and rectangle is: 0.860738255033557\n",
      "Matching shape number of triangle and square is: 0.33133253301320525\n",
      "Matching shape number of rectangle and square is: 1.053903345724907\n"
     ]
    }
   ],
   "source": [
    "from assignment import FreemanChainCode\n",
    "from stringmatching import *\n",
    "triangle = FreemanChainCode(image_path = 'triangle.png', threshold = 200, location = [(0,0),(0,0)])\n",
    "rectangle = FreemanChainCode(image_path= 'rectangle.png', location = [(0,0),(0,0)])\n",
    "square = FreemanChainCode(image_path= 'square.png', location = [(0,0),(0,0)])\n",
    "_,_,a,shape_1,_,_ = triangle.result()\n",
    "_,_,b,shape_2,_,_ = rectangle.result()\n",
    "_,_,c,shape_3,_,_ = square.result()\n",
    "tri_rec = similarity(a,b)\n",
    "tri_sq  = similarity(a,c)\n",
    "rec_sq  = similarity(c,b)\n",
    "print(\"Matching shape number of triangle and rectangle is: {}\".format(tri_rec))\n",
    "print(\"Matching shape number of triangle and square is: {}\".format(tri_sq))\n",
    "print(\"Matching shape number of rectangle and square is: {}\".format(rec_sq))"
   ]
  },
  {
   "cell_type": "code",
   "execution_count": 28,
   "metadata": {},
   "outputs": [
    {
     "name": "stdout",
     "output_type": "stream",
     "text": [
      "0.44242424242424244\n",
      "0.26620689655172414\n"
     ]
    }
   ],
   "source": [
    "from assignment import FreemanChainCode\n",
    "from stringmatching import *\n",
    "apple = FreemanChainCode(image_path='apple.jpg', threshold = 200, location = [(0,0),(0,0)])\n",
    "apple_1 = FreemanChainCode(image_path='apple_2.jpg', threshold = 200, location = [(0,0),(0,0)])\n",
    "le = FreemanChainCode(image_path='le.jpg', threshold = 200, location = [(0,0),(0,0)])\n",
    "_,a,c,shape_1,_,_ = apple.result()\n",
    "_,b,d,shape_2,_,_ = apple_1.result()\n",
    "_,e,f,shape_3,_,_ = le.result()\n",
    "print(similarity(c,f))\n",
    "print(similarity(d,f))\n",
    "# apple.show()"
   ]
  }
 ],
 "metadata": {
  "kernelspec": {
   "display_name": "Python 3",
   "language": "python",
   "name": "python3"
  },
  "language_info": {
   "codemirror_mode": {
    "name": "ipython",
    "version": 3
   },
   "file_extension": ".py",
   "mimetype": "text/x-python",
   "name": "python",
   "nbconvert_exporter": "python",
   "pygments_lexer": "ipython3",
   "version": "3.7.1"
  }
 },
 "nbformat": 4,
 "nbformat_minor": 2
}
