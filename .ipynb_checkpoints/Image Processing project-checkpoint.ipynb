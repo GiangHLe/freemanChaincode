{
 "cells": [
  {
   "cell_type": "code",
   "execution_count": 201,
   "metadata": {},
   "outputs": [],
   "source": [
    "import numpy as np\n",
    "import math\n",
    "import cv2\n",
    "from matplotlib import pyplot as mlt\n",
    "# comment something to push"
   ]
  },
  {
   "cell_type": "code",
   "execution_count": 292,
   "metadata": {},
   "outputs": [
    {
     "name": "stdout",
     "output_type": "stream",
     "text": [
      "(238, 238)\n"
     ]
    },
    {
     "data": {
      "text/plain": [
       "<matplotlib.image.AxesImage at 0x27d1d7a9438>"
      ]
     },
     "execution_count": 292,
     "metadata": {},
     "output_type": "execute_result"
    },
    {
     "data": {
      "image/png": "[encoded data removed]",
      "text/plain": [
       "<Figure size 432x288 with 1 Axes>"
      ]
     },
     "metadata": {
      "needs_background": "light"
     },
     "output_type": "display_data"
    }
   ],
   "source": [
    "img_path = 'zero.png'\n",
    "image = cv2.imread(img_path,0)\n",
    "print(image.shape)\n",
    "# image = np.reshape(a, (-1, 28)).astype(np.uint8)\n",
    "image = image[20:218,20:218]\n",
    "# mlt.imshow(image, cmap='Greys')\n",
    "mlt.imshow(image, cmap='Greys')"
   ]
  },
  {
   "cell_type": "code",
   "execution_count": 280,
   "metadata": {},
   "outputs": [
    {
     "data": {
      "text/plain": [
       "<matplotlib.image.AxesImage at 0x27d1c9f1320>"
      ]
     },
     "execution_count": 280,
     "metadata": {},
     "output_type": "execute_result"
    },
    {
     "data": {
      "image/png": "[encoded data removed]",
      "text/plain": [
       "<Figure size 432x288 with 1 Axes>"
      ]
     },
     "metadata": {
      "needs_background": "light"
     },
     "output_type": "display_data"
    }
   ],
   "source": [
    "ret,img = cv2.threshold(image,60,255,cv2.THRESH_BINARY)\n",
    "mlt.imshow(img, cmap = 'Greys')"
   ]
  },
  {
   "cell_type": "code",
   "execution_count": 281,
   "metadata": {},
   "outputs": [
    {
     "data": {
      "text/plain": [
       "<matplotlib.image.AxesImage at 0x27d1ca4d128>"
      ]
     },
     "execution_count": 281,
     "metadata": {},
     "output_type": "execute_result"
    },
    {
     "data": {
      "image/png": "[encoded data removed]",
      "text/plain": [
       "<Figure size 432x288 with 1 Axes>"
      ]
     },
     "metadata": {
      "needs_background": "light"
     },
     "output_type": "display_data"
    }
   ],
   "source": [
    "kernel = np.ones((10,10),np.uint8)\n",
    "# closing = cv2.morphologyEx(img, cv2.MORPH_CLOSE, kernel)\n",
    "# dilation = cv2.dilate(img,kernel,iterations = 1)\n",
    "closing = cv2.morphologyEx(img, cv2.MORPH_CLOSE, kernel)\n",
    "\n",
    "mlt.imshow(closing,cmap = 'Greys')\n"
   ]
  },
  {
   "cell_type": "code",
   "execution_count": 282,
   "metadata": {},
   "outputs": [
    {
     "name": "stdout",
     "output_type": "stream",
     "text": [
      "(198, 198)\n"
     ]
    }
   ],
   "source": [
    "img = closing\n",
    "print((img.shape))"
   ]
  },
  {
   "cell_type": "code",
   "execution_count": 283,
   "metadata": {},
   "outputs": [
    {
     "name": "stdout",
     "output_type": "stream",
     "text": [
      "(23, 109) 255\n"
     ]
    }
   ],
   "source": [
    "for i, row in enumerate(img):\n",
    "    for j, value in enumerate(row):\n",
    "#         cv2.circle(img,(i,j),5,150,1)\n",
    "        if value == 255:\n",
    "            start_point = (i, j)\n",
    "            print(start_point, value)\n",
    "            break\n",
    "    else:\n",
    "        continue\n",
    "    break"
   ]
  },
  {
   "cell_type": "code",
   "execution_count": 208,
   "metadata": {},
   "outputs": [
    {
     "data": {
      "text/plain": [
       "<matplotlib.image.AxesImage at 0x27d1b09e7f0>"
      ]
     },
     "execution_count": 208,
     "metadata": {},
     "output_type": "execute_result"
    },
    {
     "data": {
      "image/png": "[encoded data removed]",
      "text/plain": [
       "<Figure size 432x288 with 1 Axes>"
      ]
     },
     "metadata": {
      "needs_background": "light"
     },
     "output_type": "display_data"
    }
   ],
   "source": [
    "cv2.circle(img,start_point[::-1],5,150,2)\n",
    "mlt.imshow(img, cmap='Greys')"
   ]
  },
  {
   "cell_type": "code",
   "execution_count": 287,
   "metadata": {},
   "outputs": [
    {
     "name": "stdout",
     "output_type": "stream",
     "text": [
      "{0: 0, 1: 1, 2: 2, 7: 3, 3: 4, 6: 5, 5: 6, 4: 7}\n"
     ]
    }
   ],
   "source": [
    "directions = [ 0,  1,  2,\n",
    "               7,      3,\n",
    "               6,  5,  4]\n",
    "dir2idx = dict(zip(directions, range(len(directions))))\n",
    "print(dir2idx)\n",
    "change_j =   [-5,  0, 5, # x or columns\n",
    "              -5,    5,\n",
    "              -5,  0, 5]\n",
    "\n",
    "change_i =   [-5, -5, -5, # y or rows\n",
    "               0,      0,\n",
    "               5, 5,5]\n",
    "\n",
    "border = []\n",
    "chain = []\n",
    "curr_point = start_point\n",
    "for direction in directions:\n",
    "#     print(direction)\n",
    "    idx = dir2idx[direction]\n",
    "    new_point = (start_point[0]+change_i[idx], start_point[1]+change_j[idx])\n",
    "    if img[new_point] != 0: # if is ROI\n",
    "        border.append(new_point)\n",
    "        chain.append(direction)\n",
    "        curr_point = new_point\n",
    "        break\n",
    "\n",
    "count = 0\n",
    "while curr_point != start_point:\n",
    "    #figure direction to start search\n",
    "#     cv2.circle(img,curr_point[::-1],5,150,2)\n",
    "\n",
    "    b_direction = (direction + 5) % 8\n",
    "    b_direction += 1\n",
    "    dirs_1 = range(b_direction, 8)\n",
    "    dirs_2 = range(0, b_direction)\n",
    "    dirs = []\n",
    "    dirs.extend(dirs_1)\n",
    "    dirs.extend(dirs_2)\n",
    "#     print('direction', direction)\n",
    "#     print(dirs)\n",
    "#     print(dir2idx[7])\n",
    "    for direction in dirs:\n",
    "#         print(direction)\n",
    "        idx = dir2idx[direction]\n",
    "#         print('idx', idx)\n",
    "        new_point = (curr_point[0]+change_i[idx], curr_point[1]+change_j[idx])\n",
    "        if image[new_point] != 0: # if is ROI\n",
    "            border.append(new_point)\n",
    "            chain.append(direction)\n",
    "            curr_point = new_point\n",
    "            break\n",
    "#     if count == 1000: break\n",
    "    count += 1"
   ]
  },
  {
   "cell_type": "code",
   "execution_count": 288,
   "metadata": {},
   "outputs": [
    {
     "name": "stdout",
     "output_type": "stream",
     "text": [
      "156\n",
      "[3, 3, 3, 3, 3, 3, 3, 3, 3, 3, 3, 3, 5, 5, 7, 6, 4, 6, 7, 7, 7, 7, 7, 7, 7, 6, 5, 5, 7, 7, 1, 0, 6, 7, 6, 4, 3, 5, 5, 5, 4, 3, 3, 3, 4, 3, 5, 4, 3, 5, 5, 4, 5, 5, 6, 5, 5, 7, 6, 5, 7, 7, 7, 6, 6, 7, 7, 6, 7, 7, 6, 4, 7, 1, 0, 6, 5, 7, 7, 7, 7, 7, 7, 7, 7, 7, 7, 1, 1, 3, 3, 2, 1, 3, 3, 2, 1, 3, 3, 3, 2, 3, 3, 2, 1, 3, 3, 2, 3, 3, 3, 3, 2, 1, 0, 7, 7, 7, 7, 1, 0, 7, 0, 1, 0, 7, 1, 1, 1, 1, 0, 6, 5, 7, 1, 1, 0, 6, 0, 1, 1, 1, 1, 2, 2, 3, 3, 3, 3, 3, 2, 3, 3, 3, 3, 3, 3]\n"
     ]
    }
   ],
   "source": [
    "print(count)\n",
    "print(chain)"
   ]
  },
  {
   "cell_type": "code",
   "execution_count": 289,
   "metadata": {},
   "outputs": [
    {
     "data": {
      "text/plain": [
       "[<matplotlib.lines.Line2D at 0x27d1d3e7dd8>]"
      ]
     },
     "execution_count": 289,
     "metadata": {},
     "output_type": "execute_result"
    },
    {
     "data": {
      "image/png": "[encoded data removed]",
      "text/plain": [
       "<Figure size 432x288 with 1 Axes>"
      ]
     },
     "metadata": {
      "needs_background": "light"
     },
     "output_type": "display_data"
    }
   ],
   "source": [
    "mlt.imshow(img, cmap='Greys')\n",
    "mlt.plot([i[1] for i in border], [i[0] for i in border])"
   ]
  },
  {
   "cell_type": "code",
   "execution_count": 329,
   "metadata": {},
   "outputs": [
    {
     "name": "stdout",
     "output_type": "stream",
     "text": [
      "{'Alex': ['Alex:1990:London', 'Alex:1978:Shanghai'], 'Tony': ['Tony:1993:NYC', 'Tony:2001:LA'], 'Kate': ['Kate:2001:Beijing']}\n"
     ]
    }
   ],
   "source": [
    "my_list=[\"Alex:1990:London\", \"Tony:1993:NYC\", \"Kate:2001:Beijing\", \"Tony:2001:LA\", \"Alex:1978:Shanghai\"]\n",
    "dict = {}\n",
    "for idx, content in enumerate(my_list):\n",
    "    name = content[:(content.index(':'))]\n",
    "    if name not in dict:\n",
    "        dict[name] = []\n",
    "    dict[name].append(my_list[idx])"
   ]
  },
  {
   "cell_type": "code",
   "execution_count": 336,
   "metadata": {},
   "outputs": [
    {
     "name": "stdout",
     "output_type": "stream",
     "text": [
      "Onad\n"
     ]
    }
   ],
   "source": [
    "def properNounCorrection(noun):\n",
    "    noun = noun.lower()\n",
    "    a = list(noun)\n",
    "    a[0]= a[0].upper()\n",
    "    a = ''.join(a)\n",
    "    print(a)\n",
    "properNounCorrection('oNAD')"
   ]
  },
  {
   "cell_type": "code",
   "execution_count": 328,
   "metadata": {},
   "outputs": [
    {
     "name": "stdout",
     "output_type": "stream",
     "text": [
      "ok\n"
     ]
    }
   ],
   "source": [
    "temp = {'a':1, 'b':2}\n",
    "if 'a' in temp:\n",
    "    print('ok')"
   ]
  }
 ],
 "metadata": {
  "kernelspec": {
   "display_name": "Python 3",
   "language": "python",
   "name": "python3"
  },
  "language_info": {
   "codemirror_mode": {
    "name": "ipython",
    "version": 3
   },
   "file_extension": ".py",
   "mimetype": "text/x-python",
   "name": "python",
   "nbconvert_exporter": "python",
   "pygments_lexer": "ipython3",
   "version": "3.7.1"
  }
 },
 "nbformat": 4,
 "nbformat_minor": 2
}
