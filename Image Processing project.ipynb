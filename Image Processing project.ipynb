{
 "cells": [
  {
   "cell_type": "code",
   "execution_count": 4,
   "metadata": {},
   "outputs": [],
   "source": [
    "import numpy as np\n",
    "import math\n",
    "import cv2\n",
    "from matplotlib import pyplot as mlt\n"
   ]
  },
  {
   "cell_type": "code",
   "execution_count": 50,
   "metadata": {},
   "outputs": [
    {
     "name": "stdout",
     "output_type": "stream",
     "text": [
      "(238, 238)\n"
     ]
    },
    {
     "data": {
      "text/plain": [
       "<matplotlib.image.AxesImage at 0x19192fd8048>"
      ]
     },
     "execution_count": 50,
     "metadata": {},
     "output_type": "execute_result"
    },
    {
     "data": {
      "image/png": "[encoded data removed]",
      "text/plain": [
       "<Figure size 432x288 with 1 Axes>"
      ]
     },
     "metadata": {
      "needs_background": "light"
     },
     "output_type": "display_data"
    }
   ],
   "source": [
    "img_path = '.\\\\Desktop\\\\zero.png'\n",
    "image = cv2.imread(img_path,0)\n",
    "print(image.shape)\n",
    "# image = np.reshape(a, (-1, 28)).astype(np.uint8)\n",
    "image = image[20:218,20:218]\n",
    "# mlt.imshow(image, cmap='Greys')\n",
    "mlt.imshow(image, cmap='Greys')"
   ]
  },
  {
   "cell_type": "code",
   "execution_count": 51,
   "metadata": {},
   "outputs": [
    {
     "data": {
      "text/plain": [
       "<matplotlib.image.AxesImage at 0x191930289e8>"
      ]
     },
     "execution_count": 51,
     "metadata": {},
     "output_type": "execute_result"
    },
    {
     "data": {
      "image/png": "[encoded data removed]",
      "text/plain": [
       "<Figure size 432x288 with 1 Axes>"
      ]
     },
     "metadata": {
      "needs_background": "light"
     },
     "output_type": "display_data"
    }
   ],
   "source": [
    "ret,img = cv2.threshold(image,60,255,cv2.THRESH_BINARY)\n",
    "mlt.imshow(img, cmap = 'Greys')"
   ]
  },
  {
   "cell_type": "code",
   "execution_count": 62,
   "metadata": {},
   "outputs": [
    {
     "name": "stdout",
     "output_type": "stream",
     "text": [
      "(28, 77) 255\n",
      "(29, 77) 255\n",
      "(30, 77) 255\n",
      "(31, 77) 255\n",
      "(32, 77) 255\n",
      "(33, 77) 255\n",
      "(34, 77) 255\n",
      "(35, 77) 255\n",
      "(36, 77) 255\n",
      "(37, 77) 255\n",
      "(38, 77) 255\n",
      "(39, 77) 255\n",
      "(40, 77) 255\n",
      "(41, 77) 255\n",
      "(42, 77) 255\n",
      "(43, 84) 255\n",
      "(44, 84) 255\n",
      "(45, 84) 255\n",
      "(46, 84) 255\n",
      "(47, 84) 255\n",
      "(48, 84) 255\n",
      "(49, 84) 255\n",
      "(50, 84) 255\n",
      "(51, 77) 255\n",
      "(52, 77) 255\n",
      "(53, 77) 255\n",
      "(54, 77) 255\n",
      "(55, 77) 255\n",
      "(56, 77) 255\n",
      "(57, 77) 255\n",
      "(58, 77) 255\n",
      "(59, 69) 255\n",
      "(60, 69) 255\n",
      "(61, 69) 255\n",
      "(62, 69) 255\n",
      "(63, 69) 255\n",
      "(64, 69) 255\n",
      "(65, 69) 255\n",
      "(66, 69) 255\n",
      "(67, 61) 255\n",
      "(68, 61) 255\n",
      "(69, 61) 255\n",
      "(70, 61) 255\n",
      "(71, 61) 255\n",
      "(72, 61) 255\n",
      "(73, 61) 255\n",
      "(74, 61) 255\n",
      "(75, 53) 255\n",
      "(76, 53) 255\n",
      "(77, 53) 255\n",
      "(78, 53) 255\n",
      "(79, 53) 255\n",
      "(80, 53) 255\n",
      "(81, 53) 255\n",
      "(82, 53) 255\n",
      "(83, 53) 255\n",
      "(84, 53) 255\n",
      "(85, 53) 255\n",
      "(86, 53) 255\n",
      "(87, 53) 255\n",
      "(88, 53) 255\n",
      "(89, 53) 255\n",
      "(90, 45) 255\n",
      "(91, 45) 255\n",
      "(92, 45) 255\n",
      "(93, 45) 255\n",
      "(94, 45) 255\n",
      "(95, 45) 255\n",
      "(96, 45) 255\n",
      "(97, 45) 255\n",
      "(98, 45) 255\n",
      "(99, 45) 255\n",
      "(100, 45) 255\n",
      "(101, 45) 255\n",
      "(102, 45) 255\n",
      "(103, 45) 255\n",
      "(104, 45) 255\n",
      "(105, 45) 255\n",
      "(106, 45) 255\n",
      "(107, 45) 255\n",
      "(108, 45) 255\n",
      "(109, 45) 255\n",
      "(110, 45) 255\n",
      "(111, 45) 255\n",
      "(112, 45) 255\n",
      "(113, 45) 255\n",
      "(114, 45) 255\n",
      "(115, 45) 255\n",
      "(116, 45) 255\n",
      "(117, 45) 255\n",
      "(118, 45) 255\n",
      "(119, 45) 255\n",
      "(120, 45) 255\n",
      "(121, 38) 255\n",
      "(122, 38) 255\n",
      "(123, 38) 255\n",
      "(124, 38) 255\n",
      "(125, 38) 255\n",
      "(126, 38) 255\n",
      "(127, 38) 255\n",
      "(128, 38) 255\n",
      "(129, 38) 255\n",
      "(130, 38) 255\n",
      "(131, 38) 255\n",
      "(132, 38) 255\n",
      "(133, 38) 255\n",
      "(134, 38) 255\n",
      "(135, 38) 255\n",
      "(136, 38) 255\n",
      "(137, 38) 255\n",
      "(138, 38) 255\n",
      "(139, 38) 255\n",
      "(140, 38) 255\n",
      "(141, 38) 255\n",
      "(142, 38) 255\n",
      "(143, 38) 255\n",
      "(144, 38) 255\n",
      "(145, 45) 255\n",
      "(146, 45) 255\n",
      "(147, 45) 255\n",
      "(148, 45) 255\n",
      "(149, 45) 255\n",
      "(150, 45) 255\n",
      "(151, 45) 255\n",
      "(152, 45) 255\n",
      "(153, 45) 255\n",
      "(154, 45) 255\n",
      "(155, 45) 255\n",
      "(156, 45) 255\n",
      "(157, 45) 255\n",
      "(158, 45) 255\n",
      "(159, 45) 255\n",
      "(160, 53) 255\n",
      "(161, 53) 255\n",
      "(162, 53) 255\n",
      "(163, 53) 255\n",
      "(164, 53) 255\n",
      "(165, 53) 255\n",
      "(166, 53) 255\n",
      "(167, 53) 255\n",
      "(168, 61) 255\n",
      "(169, 61) 255\n",
      "(170, 61) 255\n",
      "(171, 61) 255\n",
      "(172, 61) 255\n",
      "(173, 61) 255\n",
      "(174, 61) 255\n",
      "(175, 61) 255\n",
      "(176, 69) 255\n",
      "(177, 69) 255\n",
      "(178, 69) 255\n",
      "(179, 69) 255\n",
      "(180, 69) 255\n",
      "(181, 69) 255\n",
      "(182, 69) 255\n",
      "(183, 69) 255\n"
     ]
    }
   ],
   "source": [
    "for i, row in enumerate(img):\n",
    "    for j, value in enumerate(row):\n",
    "        if value == 255:\n",
    "            start_point = (i, j)\n",
    "            print(start_point, value)\n",
    "            break\n",
    "        else:\n",
    "            continue\n",
    "        break"
   ]
  },
  {
   "cell_type": "code",
   "execution_count": 53,
   "metadata": {},
   "outputs": [],
   "source": [
    "directions = [ 0,  1,  2,\n",
    "               7,      3,\n",
    "               6,  5,  4]\n",
    "dir2idx = dict(zip(directions, range(len(directions))))\n",
    "\n",
    "change_j =   [-1,  0,  1, # x or columns\n",
    "              -1,      1,\n",
    "              -1,  0,  1]\n",
    "\n",
    "change_i =   [-1, -1, -1, # y or rows\n",
    "               0,      0,\n",
    "               1,  1,  1]\n",
    "\n",
    "border = []\n",
    "chain = []\n",
    "curr_point = start_point\n",
    "for direction in directions:\n",
    "    idx = dir2idx[direction]\n",
    "    new_point = (start_point[0]+change_i[idx], start_point[1]+change_j[idx])\n",
    "    if img[new_point] != 0: # if is ROI\n",
    "        border.append(new_point)\n",
    "        chain.append(direction)\n",
    "        curr_point = new_point\n",
    "        break\n",
    "\n",
    "count = 0\n",
    "while curr_point != start_point:\n",
    "    #figure direction to start search\n",
    "    b_direction = (direction + 5) % 8 \n",
    "    dirs_1 = range(b_direction, 8)\n",
    "    dirs_2 = range(0, b_direction)\n",
    "    dirs = []\n",
    "    dirs.extend(dirs_1)\n",
    "    dirs.extend(dirs_2)\n",
    "    for direction in dirs:\n",
    "        idx = dir2idx[direction]\n",
    "        new_point = (curr_point[0]+change_i[idx], curr_point[1]+change_j[idx])\n",
    "        if image[new_point] != 0: # if is ROI\n",
    "            border.append(new_point)\n",
    "            chain.append(direction)\n",
    "            curr_point = new_point\n",
    "            break\n",
    "    if count == 1000: break\n",
    "    count += 1"
   ]
  },
  {
   "cell_type": "code",
   "execution_count": 54,
   "metadata": {},
   "outputs": [
    {
     "name": "stdout",
     "output_type": "stream",
     "text": [
      "540\n",
      "[3, 3, 3, 3, 3, 3, 3, 3, 3, 3, 3, 3, 3, 3, 3, 3, 3, 3, 3, 3, 3, 3, 3, 3, 3, 3, 3, 3, 3, 3, 3, 3, 3, 3, 3, 3, 3, 3, 3, 3, 3, 3, 3, 3, 3, 3, 3, 3, 3, 3, 3, 3, 3, 3, 3, 3, 3, 3, 3, 3, 3, 5, 5, 5, 5, 5, 5, 5, 4, 3, 3, 3, 3, 3, 3, 3, 5, 5, 5, 5, 5, 5, 5, 5, 5, 5, 5, 5, 5, 5, 5, 5, 5, 5, 5, 5, 5, 5, 5, 5, 5, 5, 5, 5, 5, 5, 5, 5, 5, 5, 5, 5, 5, 5, 4, 3, 3, 3, 3, 3, 3, 5, 5, 5, 5, 5, 5, 5, 5, 5, 5, 5, 5, 5, 5, 4, 3, 3, 3, 3, 3, 3, 3, 5, 5, 5, 5, 5, 5, 5, 5, 5, 5, 5, 5, 5, 5, 5, 5, 5, 5, 5, 5, 5, 5, 5, 5, 5, 5, 5, 5, 5, 5, 5, 5, 5, 5, 5, 5, 5, 5, 5, 5, 5, 5, 5, 5, 5, 5, 7, 7, 7, 7, 7, 7, 7, 6, 5, 5, 5, 5, 5, 5, 5, 5, 5, 5, 5, 5, 5, 5, 7, 7, 7, 7, 7, 7, 6, 5, 5, 5, 5, 5, 5, 5, 7, 7, 7, 7, 7, 7, 7, 6, 5, 5, 5, 5, 5, 5, 5, 7, 7, 7, 7, 7, 7, 7, 6, 5, 5, 5, 5, 5, 5, 5, 7, 7, 7, 7, 7, 7, 7, 6, 5, 5, 5, 5, 5, 5, 5, 7, 7, 7, 7, 7, 7, 7, 7, 7, 7, 7, 7, 7, 7, 7, 7, 7, 7, 7, 7, 7, 7, 7, 7, 7, 7, 7, 7, 7, 7, 7, 7, 7, 7, 7, 7, 7, 7, 7, 7, 7, 7, 7, 7, 7, 7, 7, 7, 7, 7, 7, 7, 7, 1, 1, 1, 1, 1, 1, 1, 0, 7, 7, 7, 7, 7, 7, 7, 7, 7, 7, 7, 7, 7, 7, 7, 1, 1, 1, 1, 1, 1, 1, 0, 7, 7, 7, 7, 7, 7, 7, 1, 1, 1, 1, 1, 1, 1, 1, 1, 1, 1, 1, 1, 1, 1, 0, 7, 7, 7, 7, 7, 7, 1, 1, 1, 1, 1, 1, 1, 1, 1, 1, 1, 1, 1, 1, 1, 1, 1, 1, 1, 1, 1, 1, 1, 1, 1, 1, 1, 1, 1, 1, 1, 1, 1, 1, 1, 1, 1, 1, 1, 1, 1, 1, 1, 1, 1, 3, 3, 3, 3, 3, 3, 2, 1, 1, 1, 1, 1, 1, 1, 1, 1, 1, 1, 1, 1, 1, 1, 3, 3, 3, 3, 3, 3, 3, 2, 1, 1, 1, 1, 1, 1, 1, 1, 1, 1, 1, 1, 1, 1, 3, 3, 3, 3, 3, 3, 3, 2, 1, 1, 1, 1, 1, 1, 1, 1, 1, 1, 1, 1, 1, 1, 1, 3, 3, 3, 3, 3, 3, 3, 2, 1, 1, 1, 1, 1, 1, 1, 1, 1, 1, 1, 1, 1, 1, 1, 1, 1, 1, 1, 1, 1, 1, 1, 1, 1, 1, 1, 1, 1, 1, 3, 3, 3, 3, 3, 3, 3, 3]\n"
     ]
    }
   ],
   "source": [
    "print(count)\n",
    "print(chain)"
   ]
  },
  {
   "cell_type": "code",
   "execution_count": 56,
   "metadata": {},
   "outputs": [
    {
     "data": {
      "text/plain": [
       "[<matplotlib.lines.Line2D at 0x1919304e128>]"
      ]
     },
     "execution_count": 56,
     "metadata": {},
     "output_type": "execute_result"
    },
    {
     "data": {
      "image/png": "[encoded data removed]",
      "text/plain": [
       "<Figure size 432x288 with 1 Axes>"
      ]
     },
     "metadata": {
      "needs_background": "light"
     },
     "output_type": "display_data"
    }
   ],
   "source": [
    "mlt.imshow(img, cmap='Greys')\n",
    "mlt.plot([i[1] for i in border], [i[0] for i in border])"
   ]
  },
  {
   "cell_type": "code",
   "execution_count": 60,
   "metadata": {},
   "outputs": [
    {
     "data": {
      "text/plain": [
       "218"
      ]
     },
     "execution_count": 60,
     "metadata": {},
     "output_type": "execute_result"
    }
   ],
   "source": [
    "a = [(20,218),(20,218)]\n",
    "a[0][1]"
   ]
  }
 ],
 "metadata": {
  "kernelspec": {
   "display_name": "Python 3",
   "language": "python",
   "name": "python3"
  },
  "language_info": {
   "codemirror_mode": {
    "name": "ipython",
    "version": 3
   },
   "file_extension": ".py",
   "mimetype": "text/x-python",
   "name": "python",
   "nbconvert_exporter": "python",
   "pygments_lexer": "ipython3",
   "version": "3.6.8"
  }
 },
 "nbformat": 4,
 "nbformat_minor": 2
}
