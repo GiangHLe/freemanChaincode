{
 "cells": [
  {
   "cell_type": "code",
   "execution_count": 81,
   "metadata": {},
   "outputs": [
    {
     "name": "stdout",
     "output_type": "stream",
     "text": [
      "Tensor(\"add_89:0\", shape=(4, 2), dtype=float32)\n"
     ]
    }
   ],
   "source": [
    "# from __future__ import print_function\n",
    "import tensorflow as tf\n",
    "import numpy as np\n",
    "# Parameters\n",
    "learning_rate = 1\n",
    "num_steps = 500\n",
    "batch_size = 128\n",
    "display_step = 100\n",
    "\n",
    "# Network Parameters\n",
    "n_hidden_1 = 2 \n",
    "num_input = 2 \n",
    "num_classes = 2 \n",
    "\n",
    "# tf Graph input\n",
    "# x = tf.placeholder(\"float\", [None, num_input])\n",
    "y = tf.placeholder(\"float\", [None, num_classes])\n",
    "x = np.array([[1,1],[-1,-1],[1,-1],[-1,1]],dtype = np.float32)\n",
    "\n",
    "# Store layers weight & bias\n",
    "weights = {\n",
    "    'h1': tf.Variable(tf.random_normal([num_input, n_hidden_1],mean = 0, stddev = 0.02, dtype = np.float32, seed = 200)),\n",
    "    # 'h2': tf.Variable(tf.random_normal([n_hidden_1, n_hidden_2])),\n",
    "    'out': tf.Variable(tf.random_normal([n_hidden_1, num_classes], mean = 0, stddev = 0.02, dtype = np.float32, seed = 200))\n",
    "}\n",
    "biases = {\n",
    "    'b1': tf.zeros([n_hidden_1], dtype = np.float32),\n",
    "    'out': tf.zeros([num_classes], dtype = np.float32)\n",
    "}\n",
    "\n",
    "def neural_net(x):\n",
    "    # Hidden fully connected layer with 256 neurons\n",
    "    layer_1 = tf.add(tf.matmul(x, weights['h1']), biases['b1'])\n",
    "    # Hidden fully connected layer with 256 neurons\n",
    "    # layer_2 = tf.add(tf.matmul(layer_1, weights['h2']), biases['b2'])\n",
    "    # Output fully connected layer with a neuron for each class\n",
    "    out_layer = tf.matmul(layer_1, weights['out']) + biases['out']\n",
    "    return out_layer\n",
    "\n",
    "# Construct model\n",
    "logits = neural_net(x)\n",
    "print((logits))"
   ]
  },
  {
   "cell_type": "code",
   "execution_count": 104,
   "metadata": {},
   "outputs": [
    {
     "name": "stdout",
     "output_type": "stream",
     "text": [
      "[[ 0.00081706  0.00067837]\n",
      " [-0.00081706 -0.00067837]\n",
      " [ 0.00150517 -0.00256112]\n",
      " [-0.00150517  0.00256112]]\n"
     ]
    }
   ],
   "source": [
    "layer_1 = tf.add(tf.matmul(x, weights['h1']), biases['b1'])\n",
    "out_layer = tf.matmul(layer_1, weights['out']) + biases['out']\n",
    "temp = tf.Variable(tf.random_normal([num_input, n_hidden_1],mean = 0, stddev = 0.02, dtype = np.float32, seed = 200))\n",
    "sess = tf.InteractiveSession()\n",
    "a = tf.constant([[1,1,1,5,6,7,4],[4,3,2,1,1,1,1]])\n",
    "b = a+a\n",
    "# aha = tf.get_variable(\"aha\", [1,2,3])\n",
    "u = tf.Variable([[1,1,1,5,6,7,4],[4,3,2,1,1,1,1]])\n",
    "tf.global_variables_initializer().run()\n",
    "\n",
    "print(logits.eval())\n",
    "# u.eval()\n",
    "# print(type(a))"
   ]
  },
  {
   "cell_type": "code",
   "execution_count": 26,
   "metadata": {},
   "outputs": [
    {
     "data": {
      "text/plain": [
       "True"
      ]
     },
     "execution_count": 26,
     "metadata": {},
     "output_type": "execute_result"
    }
   ],
   "source": [
    "def isMonotonous(a):\n",
    "    return (len(set([a[i]>a[i-1] for i in range(1,len(a))]))==1) == (len(a) > 1)\n",
    "isMonotonous([3,3])"
   ]
  },
  {
   "cell_type": "code",
   "execution_count": 9,
   "metadata": {},
   "outputs": [
    {
     "name": "stdout",
     "output_type": "stream",
     "text": [
      "{0}\n"
     ]
    }
   ],
   "source": [
    "a = [0]\n",
    "print(set(a))"
   ]
  }
 ],
 "metadata": {
  "kernelspec": {
   "display_name": "Python 3",
   "language": "python",
   "name": "python3"
  },
  "language_info": {
   "codemirror_mode": {
    "name": "ipython",
    "version": 3
   },
   "file_extension": ".py",
   "mimetype": "text/x-python",
   "name": "python",
   "nbconvert_exporter": "python",
   "pygments_lexer": "ipython3",
   "version": "3.6.8"
  }
 },
 "nbformat": 4,
 "nbformat_minor": 2
}
